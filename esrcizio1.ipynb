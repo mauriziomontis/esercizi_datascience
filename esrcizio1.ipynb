{
  "nbformat": 4,
  "nbformat_minor": 0,
  "metadata": {
    "colab": {
      "provenance": [],
      "gpuType": "T4",
      "authorship_tag": "ABX9TyM8Kw+mR0ozz6WzGQ32EqXu",
      "include_colab_link": true
    },
    "kernelspec": {
      "name": "python3",
      "display_name": "Python 3"
    },
    "language_info": {
      "name": "python"
    },
    "accelerator": "GPU"
  },
  "cells": [
    {
      "cell_type": "markdown",
      "metadata": {
        "id": "view-in-github",
        "colab_type": "text"
      },
      "source": [
        "<a href=\"https://colab.research.google.com/github/mauriziomontis/esercizi_datascience/blob/main/esrcizio1.ipynb\" target=\"_parent\"><img src=\"https://colab.research.google.com/assets/colab-badge.svg\" alt=\"Open In Colab\"/></a>"
      ]
    },
    {
      "cell_type": "markdown",
      "source": [
        "# Esercizio reti neurali"
      ],
      "metadata": {
        "id": "08MnFmFmac9m"
      }
    },
    {
      "cell_type": "code",
      "source": [
        "import torch"
      ],
      "metadata": {
        "id": "xomzQuVKaZas"
      },
      "execution_count": null,
      "outputs": []
    },
    {
      "cell_type": "markdown",
      "source": [],
      "metadata": {
        "id": "6a-MVS0SaYQx"
      }
    },
    {
      "cell_type": "code",
      "source": [
        "a = torch.tensor([1,2,3], device=\"cuda:0\")\n",
        "b = torch.tensor([4,5,6])"
      ],
      "metadata": {
        "id": "6uA12T9lbYTp"
      },
      "execution_count": null,
      "outputs": []
    },
    {
      "cell_type": "code",
      "source": [
        "a.device, b.device"
      ],
      "metadata": {
        "colab": {
          "base_uri": "https://localhost:8080/"
        },
        "id": "cJkYe3XSbjf-",
        "outputId": "2c0bdd98-8d85-468e-e7b5-5d15577ac0a4"
      },
      "execution_count": null,
      "outputs": [
        {
          "output_type": "execute_result",
          "data": {
            "text/plain": [
              "(device(type='cuda', index=0), device(type='cpu'))"
            ]
          },
          "metadata": {},
          "execution_count": 8
        }
      ]
    },
    {
      "cell_type": "markdown",
      "source": [
        "ogni tensore sta su un device --> per poter essere processati assieme devono essere sugli stessi device"
      ],
      "metadata": {
        "id": "G8wFfN_ibwju"
      }
    },
    {
      "cell_type": "code",
      "source": [
        "DEVICE = \"cuda:0\"\n",
        "\n",
        "a = torch.tensor([1,2,3.], device=DEVICE, requires_grad=True)\n",
        "b = torch.tensor([4,5,6.], device=DEVICE, requires_grad=True)"
      ],
      "metadata": {
        "id": "zpWppXxWb4XV"
      },
      "execution_count": 14,
      "outputs": []
    },
    {
      "cell_type": "markdown",
      "source": [
        "ho aggunto il parametro requires_grad per usare il gradient function"
      ],
      "metadata": {
        "id": "huCg48madqHf"
      }
    },
    {
      "cell_type": "code",
      "source": [
        "a.device, b.device"
      ],
      "metadata": {
        "colab": {
          "base_uri": "https://localhost:8080/"
        },
        "id": "thfTr_lVb8pl",
        "outputId": "b51b87b4-1df2-4a70-91b7-4d2befacffa8"
      },
      "execution_count": 15,
      "outputs": [
        {
          "output_type": "execute_result",
          "data": {
            "text/plain": [
              "(device(type='cuda', index=0), device(type='cuda', index=0))"
            ]
          },
          "metadata": {},
          "execution_count": 15
        }
      ]
    },
    {
      "cell_type": "code",
      "source": [
        "s = torch.sum(a*b)"
      ],
      "metadata": {
        "id": "Udt1m--UdPXt"
      },
      "execution_count": 16,
      "outputs": []
    },
    {
      "cell_type": "code",
      "source": [
        "s"
      ],
      "metadata": {
        "colab": {
          "base_uri": "https://localhost:8080/"
        },
        "id": "V1clwoB_dm-t",
        "outputId": "2c609187-8c4d-43b0-93da-9cb2579db543"
      },
      "execution_count": 17,
      "outputs": [
        {
          "output_type": "execute_result",
          "data": {
            "text/plain": [
              "tensor(32., device='cuda:0', grad_fn=<SumBackward0>)"
            ]
          },
          "metadata": {},
          "execution_count": 17
        }
      ]
    },
    {
      "cell_type": "markdown",
      "source": [
        "calcolo ora le derivate parziali (per la differenziazione automatica)"
      ],
      "metadata": {
        "id": "QeWWG9nXd2U_"
      }
    },
    {
      "cell_type": "code",
      "source": [
        "s.backward()"
      ],
      "metadata": {
        "id": "ChYEtiEedzd8"
      },
      "execution_count": 18,
      "outputs": []
    },
    {
      "cell_type": "code",
      "source": [
        "a.grad, b.grad"
      ],
      "metadata": {
        "colab": {
          "base_uri": "https://localhost:8080/"
        },
        "id": "-WXF9wQBd7La",
        "outputId": "9c52266f-9416-4573-e3ed-2a1b9541430c"
      },
      "execution_count": 19,
      "outputs": [
        {
          "output_type": "execute_result",
          "data": {
            "text/plain": [
              "(tensor([4., 5., 6.], device='cuda:0'), tensor([1., 2., 3.], device='cuda:0'))"
            ]
          },
          "metadata": {},
          "execution_count": 19
        }
      ]
    },
    {
      "cell_type": "markdown",
      "source": [],
      "metadata": {
        "id": "GIMqjPEudPsF"
      }
    },
    {
      "cell_type": "markdown",
      "source": [
        "### importo torchvision per gli esercizi"
      ],
      "metadata": {
        "id": "tuPZW8qwe23e"
      }
    },
    {
      "cell_type": "code",
      "source": [
        "import torchvision\n",
        "import matplotlib.pyplot as plt"
      ],
      "metadata": {
        "id": "ktjeE_vSeD-d"
      },
      "execution_count": 37,
      "outputs": []
    },
    {
      "cell_type": "code",
      "source": [
        "trainset = torchvision.datasets.MNIST(root=\"mnist\", train=True, download=True)\n",
        "testset = torchvision.datasets.MNIST(root=\"mnist\", train=False, download=True)"
      ],
      "metadata": {
        "id": "opob7fzSfKfG"
      },
      "execution_count": 32,
      "outputs": []
    },
    {
      "cell_type": "code",
      "source": [
        "trainset.data.shape"
      ],
      "metadata": {
        "colab": {
          "base_uri": "https://localhost:8080/"
        },
        "id": "O8cdW_OQfeT0",
        "outputId": "b5b7dd48-4cbb-4f14-a11c-f2ee9343e062"
      },
      "execution_count": 33,
      "outputs": [
        {
          "output_type": "execute_result",
          "data": {
            "text/plain": [
              "torch.Size([60000, 28, 28])"
            ]
          },
          "metadata": {},
          "execution_count": 33
        }
      ]
    },
    {
      "cell_type": "code",
      "source": [
        "trainset.targets"
      ],
      "metadata": {
        "colab": {
          "base_uri": "https://localhost:8080/"
        },
        "id": "WLklmkR3fmoN",
        "outputId": "c02a4964-845f-4f04-f0da-53356daab6c9"
      },
      "execution_count": 34,
      "outputs": [
        {
          "output_type": "execute_result",
          "data": {
            "text/plain": [
              "tensor([5, 0, 4,  ..., 5, 6, 8])"
            ]
          },
          "metadata": {},
          "execution_count": 34
        }
      ]
    },
    {
      "cell_type": "code",
      "source": [
        "grid = torchvision.utils.make_grid(trainset.data[:32].reshape(32,1,28,28))"
      ],
      "metadata": {
        "id": "An2tQmGcf0FE"
      },
      "execution_count": 35,
      "outputs": []
    },
    {
      "cell_type": "code",
      "source": [
        "plt.imshow(grid.permute(dims=[1,2,0]), cmap=\"grey\")"
      ],
      "metadata": {
        "colab": {
          "base_uri": "https://localhost:8080/",
          "height": 332
        },
        "id": "HSaCJ3QigXKq",
        "outputId": "746fcca9-7da2-4bb8-f934-41a89e2c8de3"
      },
      "execution_count": 40,
      "outputs": [
        {
          "output_type": "execute_result",
          "data": {
            "text/plain": [
              "<matplotlib.image.AxesImage at 0x7cbe0acfbbd0>"
            ]
          },
          "metadata": {},
          "execution_count": 40
        },
        {
          "output_type": "display_data",
          "data": {
            "text/plain": [
              "<Figure size 640x480 with 1 Axes>"
            ],
            "image/png": "[encoded data removed]"
          },
          "metadata": {}
        }
      ]
    },
    {
      "cell_type": "code",
      "source": [
        "trainset.targets[:32]"
      ],
      "metadata": {
        "colab": {
          "base_uri": "https://localhost:8080/"
        },
        "id": "DVXAqalehN3S",
        "outputId": "68daf3fb-2b94-4021-8c5b-6813e87be841"
      },
      "execution_count": 41,
      "outputs": [
        {
          "output_type": "execute_result",
          "data": {
            "text/plain": [
              "tensor([5, 0, 4, 1, 9, 2, 1, 3, 1, 4, 3, 5, 3, 6, 1, 7, 2, 8, 6, 9, 4, 0, 9, 1,\n",
              "        1, 2, 4, 3, 2, 7, 3, 8])"
            ]
          },
          "metadata": {},
          "execution_count": 41
        }
      ]
    },
    {
      "cell_type": "markdown",
      "source": [
        "## MPL - Low Level"
      ],
      "metadata": {
        "id": "C2qtkaEHhUrQ"
      }
    },
    {
      "cell_type": "markdown",
      "source": [
        "faccio 3 strati (50-50-10)"
      ],
      "metadata": {
        "id": "a-KmqMcehsxC"
      }
    },
    {
      "cell_type": "code",
      "source": [
        "from torch.nn.functional import relu, softmax, cross_entropy"
      ],
      "metadata": {
        "id": "fdCI-uePkRyV"
      },
      "execution_count": 71,
      "outputs": []
    },
    {
      "cell_type": "code",
      "source": [
        "class Mlp:\n",
        "  def __init__(self, device) -> None:\n",
        "    # nota: 28*28 = 784 elems\n",
        "\n",
        "    # Strato 1\n",
        "    self.w1 = torch.randn(size=(784, 50), requires_grad=True, device=device)\n",
        "    self.b1 = torch.zeros(size=(1, 50), requires_grad=True, device=device)\n",
        "\n",
        "    # Strato 2\n",
        "    self.w2 = torch.randn(size=(50, 50), requires_grad=True, device=device)\n",
        "    self.b2 = torch.zeros(size=(1, 50), requires_grad=True, device=device)\n",
        "\n",
        "    # Strato 3\n",
        "    self.w3 = torch.randn(size=(50, 10), requires_grad=True, device=device)\n",
        "    self.b3 = torch.zeros(size=(1, 10), requires_grad=True, device=device)\n",
        "\n",
        "\n",
        "\n",
        "  def forward(self, x):\n",
        "    # quello che mi arriva: x.shape = (batch_size, 28, 28)\n",
        "    x = x.reshape(-1, 784)            # stiro la griglia su un unico vettore\n",
        "\n",
        "    # primo strato\n",
        "    x =  x@self.w1 + self.b1\n",
        "    x = relu(x)\n",
        "\n",
        "    # secondo strato\n",
        "    x =  x@self.w2 + self.b2\n",
        "    x = relu(x)\n",
        "\n",
        "    # ultimo strato\n",
        "    x =  x@self.w3 + self.b3\n",
        "\n",
        "    #return softmax(x, dim=-1)\n",
        "    return x\n",
        "\n",
        ""
      ],
      "metadata": {
        "id": "7Zqk1rXjhXll"
      },
      "execution_count": 72,
      "outputs": []
    },
    {
      "cell_type": "code",
      "source": [
        "DEVICE = \"cpu\""
      ],
      "metadata": {
        "id": "YcfoslNqkveZ"
      },
      "execution_count": 73,
      "outputs": []
    },
    {
      "cell_type": "code",
      "source": [
        "mlp = Mlp(DEVICE)"
      ],
      "metadata": {
        "id": "VFhvgeazk1Cm"
      },
      "execution_count": 63,
      "outputs": []
    },
    {
      "cell_type": "code",
      "source": [
        "y = mlp.forward(trainset.data[:32].float())"
      ],
      "metadata": {
        "id": "2-6js_wek8Ef"
      },
      "execution_count": 67,
      "outputs": []
    },
    {
      "cell_type": "code",
      "source": [
        "y"
      ],
      "metadata": {
        "colab": {
          "base_uri": "https://localhost:8080/"
        },
        "id": "5DS1J7DulY0F",
        "outputId": "8f7d1fdc-b26f-40eb-9345-48de5ab976f2"
      },
      "execution_count": 68,
      "outputs": [
        {
          "output_type": "execute_result",
          "data": {
            "text/plain": [
              "tensor([[ -87399.7031,   98640.5625,  -58570.5156, -143813.6875,  -46104.9453,\n",
              "          -56943.3398,    4618.7280,   50911.4727,    4117.3677,   33301.9688],\n",
              "        [ -19376.8008,  140150.0781,  -94773.1562, -100434.1953,  -14971.0391,\n",
              "          -75577.0469,  -33729.5352,   36434.6953,  -13096.3721,   38549.4844],\n",
              "        [ -49519.8633,   28604.5352,  -64127.0859,  -25039.8633,     814.5126,\n",
              "          -98475.0703,    2574.8486,    1420.1378,  -10878.5225,   27080.9609],\n",
              "        [ -11993.9678,   51908.8086,  -49936.5703,  -51780.6953,   -5103.9712,\n",
              "          -92057.9531,    7499.4736,   49203.5703,   28058.3184,   31922.3672],\n",
              "        [ -41860.6758,   -5167.3379,  -77192.4844,  -25596.7461,  -34995.4648,\n",
              "         -100256.5625,  -65367.7773,    -867.8676,   48902.9727,   73453.8672],\n",
              "        [ -41640.1758,  124162.3516, -144686.9688,  -57857.3789,  -50194.8008,\n",
              "         -134907.8281,  -87419.8516,  -58942.8672,   72186.5547,   33404.2031],\n",
              "        [ -50445.5938,   16087.3770,  -63543.4883,  -35669.7852,   -3836.4258,\n",
              "          -65565.7891,  -13818.2363,   31209.4766,  -20120.7695,   54668.8945],\n",
              "        [-101512.0469,  119466.9141,  -58215.3359, -129452.4531,  -35038.8867,\n",
              "         -144459.0000,   55318.1641,   78644.2891,   -8890.4531,   21159.6309],\n",
              "        [ -19002.1523,   13652.5645,  -27975.5137,  -30393.7207,   10037.3662,\n",
              "          -69682.7891,  -17578.5586,   43716.5547,  -14725.4316,   47555.1836],\n",
              "        [ -36056.5625,   28421.7246,  -67002.0312,  -65112.1484,   -2643.4563,\n",
              "          -91877.7188,   11941.4795,   45162.9219,    9186.8994,   28569.0195],\n",
              "        [ -84199.7109,  107031.2344,  -84552.7578, -108587.7656,  -16230.5996,\n",
              "          -70720.4688,   -3222.3223,   25864.4902,  -16561.5762,   47216.1367],\n",
              "        [ -31805.2070,   18607.4219,  -31578.8438,   25835.1738,   18110.5098,\n",
              "         -105511.1016,    6560.7954,   12222.6709,   15173.0645,   29477.8691],\n",
              "        [ -89394.1406,  109717.7500,  -79526.5625, -146043.0469,  -51034.6836,\n",
              "         -111391.3672,   23626.7031,  128306.5078,  -46237.2266,   29089.0352],\n",
              "        [ -18697.1992,   48949.0156, -141992.8594,  -63495.6680,   10286.0381,\n",
              "          -96554.5859,  -77538.0938,  -58426.4258,   40168.7734,    8877.3447],\n",
              "        [ -26140.4902,    2189.1438,  -25328.5859,  -53805.1250,   12367.8428,\n",
              "         -106267.3750,  -42165.0547,   12358.1143,   27606.8418,   79014.9219],\n",
              "        [ -42557.7734,   96657.9609, -111157.2578,  -48861.2461,  -32707.5586,\n",
              "         -123036.7656,   -2245.4873,   28035.5039,   31630.0430,   50423.7539],\n",
              "        [ -45112.0195,  106926.8828, -150152.7969,  -91449.0391,    5938.6855,\n",
              "         -153920.7812,   -4536.0498,  -59050.8477,   37611.5391,   24474.7500],\n",
              "        [ -39115.0078,   29711.4492,  -60410.3281,  -80249.0781,  -36388.3555,\n",
              "          -96564.6875,  -18014.1211,   45473.6602,   37934.3398,   33580.1328],\n",
              "        [ -32849.7969,   61514.9258,  -74976.2734,  -52871.8594,  -15555.2969,\n",
              "         -113451.6016,  -32146.6445,  -30413.1348,   13456.3096,   38077.5430],\n",
              "        [ -40221.5000,    3647.8904,  -60699.4336,  -66415.4062,  -33038.7148,\n",
              "         -101510.8125,    6751.7988,   26212.5859,   40099.5586,   51739.1055],\n",
              "        [ -26049.1875,   19353.2500, -137307.0938,  -35588.6914,  -52301.7070,\n",
              "         -184049.6250,  -25798.7852,    5961.2197,  -86814.1250,   83241.2500],\n",
              "        [ -53186.6094,  147611.6406,  -93965.2031, -117369.0469,  -74310.7266,\n",
              "          -95913.2422,  -32165.8457,   35761.4531,   -3725.5134,   23336.0625],\n",
              "        [ -55361.0117,   19865.0430,  -55818.6328,  -18181.1562,    -352.8273,\n",
              "          -88154.9609,  -14743.8438,  -10297.6670,   27047.8711,   60140.0391],\n",
              "        [  -4454.5361,   50731.8750,  -44355.5039,  -30996.6602,   -6369.1494,\n",
              "          -92284.8203,    -509.8775,   31130.5391,   26455.1875,   25818.2559],\n",
              "        [ -50510.0195,  104508.1484,  -96149.4688,  -23636.5625,   -3996.0984,\n",
              "          -31344.3535,  -28818.3047,   26106.3633,  -35673.2266,   18802.8945],\n",
              "        [ -98086.2188,   94392.4688, -117769.4688,  -81365.2734,   -4027.1243,\n",
              "         -104954.6719,   10149.4043,   67637.0781,  -48397.7891,   69518.5469],\n",
              "        [ -62897.3164,   31143.4980,  -48788.4180,  -11153.0234,   -4459.1890,\n",
              "         -112740.0078,   16692.2129,    -241.7838,   30011.1387,   15599.3984],\n",
              "        [ -43920.8633,  105545.2266,  -36765.1562, -147781.6094,  -37231.2812,\n",
              "         -107949.5234,   45146.1719,  104784.8281,  -11904.0498,   11570.2871],\n",
              "        [ -53236.2812,  131766.1406, -137536.4688,  -98864.5156,   23582.7188,\n",
              "         -197397.3125,  -64669.9531,   68266.8906,   23586.5254,   81116.2812],\n",
              "        [    303.0342,   63487.1172,  -47759.7305,   16997.8691,   15885.8330,\n",
              "          -81558.4922,   -8830.9922,   12306.3389,    4982.9458,   20700.3262],\n",
              "        [ -41276.5781,   32590.7734, -130869.6484,  -84012.3750,   -9846.0361,\n",
              "         -159919.5156,   19034.2793,  124964.9141,  -49236.3516,   84355.8203],\n",
              "        [ -63211.4805,   84882.1562,  -83325.2734,  -69805.7344,   -9091.5527,\n",
              "         -107390.4219,  -28244.7891,   95461.8359,   -5324.0718,   25926.1836]],\n",
              "       grad_fn=<AddBackward0>)"
            ]
          },
          "metadata": {},
          "execution_count": 68
        }
      ]
    },
    {
      "cell_type": "markdown",
      "source": [
        "causa inizializzazione pessima, mi è andato un saturazione\n",
        "\n",
        "\n",
        "posso provare ad evitare la saturazione cercando di normalizzare (metodo becero)"
      ],
      "metadata": {
        "id": "HaRwYPAQmcst"
      }
    },
    {
      "cell_type": "code",
      "source": [
        "y = mlp.forward(trainset.data[:32].float() / 255)"
      ],
      "metadata": {
        "id": "Q7OY2-PVmn7L"
      },
      "execution_count": 69,
      "outputs": []
    },
    {
      "cell_type": "code",
      "source": [
        "y"
      ],
      "metadata": {
        "colab": {
          "base_uri": "https://localhost:8080/"
        },
        "id": "Lu0y96Zsmq3d",
        "outputId": "d99bdf97-fb1b-4cc5-92a2-8c85092c63f7"
      },
      "execution_count": 70,
      "outputs": [
        {
          "output_type": "execute_result",
          "data": {
            "text/plain": [
              "tensor([[-342.7440,  386.8257, -229.6883, -563.9752, -180.8038, -223.3072,\n",
              "           18.1128,  199.6529,   16.1466,  130.5959],\n",
              "        [ -75.9874,  549.6080, -371.6595, -393.8597,  -58.7100, -296.3805,\n",
              "         -132.2728,  142.8811,  -51.3583,  151.1745],\n",
              "        [-194.1956,  112.1747, -251.4788,  -98.1956,    3.1941, -386.1768,\n",
              "           10.0974,    5.5692,  -42.6608,  106.1999],\n",
              "        [ -47.0352,  203.5639, -195.8297, -203.0615,  -20.0156, -361.0116,\n",
              "           29.4097,  192.9552,  110.0326,  125.1858],\n",
              "        [-164.1594,  -20.2641, -302.7156, -100.3794, -137.2371, -393.1630,\n",
              "         -256.3442,   -3.4035,  191.7764,  288.0544],\n",
              "        [-163.2948,  486.9113, -567.3999, -226.8916, -196.8423, -529.0503,\n",
              "         -342.8231, -231.1485,  283.0846,  130.9968],\n",
              "        [-197.8259,   63.0878, -249.1901, -139.8815,  -15.0448, -257.1207,\n",
              "          -54.1892,  122.3901,  -78.9050,  214.3878],\n",
              "        [-398.0864,  468.4977, -228.2954, -507.6567, -137.4074, -566.5059,\n",
              "          216.9340,  308.4090,  -34.8646,   82.9789],\n",
              "        [ -74.5182,   53.5395, -109.7079, -119.1911,   39.3622, -273.2659,\n",
              "          -68.9355,  171.4375,  -57.7468,  186.4909],\n",
              "        [-141.3983,  111.4577, -262.7531, -255.3418,  -10.3665, -360.3048,\n",
              "           46.8293,  177.1095,   36.0271,  112.0353],\n",
              "        [-330.1949,  419.7303, -331.5793, -425.8345,  -63.6494, -277.3351,\n",
              "          -12.6366,  101.4293,  -64.9473,  185.1613],\n",
              "        [-124.7263,   72.9703, -123.8387,  101.3144,   71.0216, -413.7691,\n",
              "           25.7286,   47.9321,   59.5022,  115.5995],\n",
              "        [-350.5654,  430.2657, -311.8690, -572.7178, -200.1360, -436.8289,\n",
              "           92.6537,  503.1628, -181.3226,  114.0747],\n",
              "        [ -73.3223,  191.9568, -556.8347, -249.0026,   40.3374, -378.6455,\n",
              "         -304.0709, -229.1231,  157.5246,   34.8131],\n",
              "        [-102.5117,    8.5848,  -99.3278, -211.0005,   48.5014, -416.7348,\n",
              "         -165.3532,   48.4632,  108.2621,  309.8624],\n",
              "        [-166.8932,  379.0508, -435.9108, -191.6127, -128.2650, -482.4971,\n",
              "           -8.8058,  109.9431,  124.0393,  197.7401],\n",
              "        [-176.9099,  419.3211, -588.8345, -358.6237,   23.2889, -603.6111,\n",
              "          -17.7885, -231.5719,  147.4962,   95.9794],\n",
              "        [-153.3922,  116.5155, -236.9033, -314.7022, -142.6995, -378.6850,\n",
              "          -70.6436,  178.3281,  148.7621,  131.6868],\n",
              "        [-128.8227,  241.2350, -294.0246, -207.3406,  -61.0012, -444.9082,\n",
              "         -126.0653, -119.2672,   52.7698,  149.3237],\n",
              "        [-157.7314,   14.3054, -238.0370, -260.4525, -129.5636, -398.0816,\n",
              "           26.4777,  102.7945,  157.2532,  202.8985],\n",
              "        [-102.1537,   75.8952, -538.4594, -139.5633, -205.1047, -721.7632,\n",
              "         -101.1717,   23.3773, -340.4475,  326.4363],\n",
              "        [-208.5748,  578.8690, -368.4910, -460.2708, -291.4146, -376.1303,\n",
              "         -126.1406,  140.2409,  -14.6098,   91.5140],\n",
              "        [-217.1021,   77.9021, -218.8965,  -71.2988,   -1.3837, -345.7058,\n",
              "          -57.8191,  -40.3830,  106.0702,  235.8434],\n",
              "        [ -17.4688,  198.9486, -173.9432, -121.5555,  -24.9771, -361.9012,\n",
              "           -1.9995,  122.0805,  103.7459,  101.2480],\n",
              "        [-198.0786,  409.8359, -377.0568,  -92.6925,  -15.6709, -122.9190,\n",
              "         -113.0130,  102.3779, -139.8951,   73.7368],\n",
              "        [-384.6519,  370.1665, -461.8411, -319.0795,  -15.7926, -411.5872,\n",
              "           39.8016,  265.2436, -189.7952,  272.6218],\n",
              "        [-246.6561,  122.1313, -191.3272,  -43.7373,  -17.4870, -442.1176,\n",
              "           65.4596,   -0.9482,  117.6908,   61.1742],\n",
              "        [-172.2388,  413.9028, -144.1770, -579.5357, -146.0051, -423.3317,\n",
              "          177.0439,  410.9209,  -46.6826,   45.3736],\n",
              "        [-208.7698,  516.7298, -539.3586, -387.7040,   92.4811, -774.1071,\n",
              "         -253.6077,  267.7131,   92.4962,  318.1030],\n",
              "        [   1.1883,  248.9691, -187.2931,   66.6583,   62.2974, -319.8373,\n",
              "          -34.6314,   48.2603,   19.5409,   81.1778],\n",
              "        [-161.8689,  127.8068, -513.2142, -329.4603,  -38.6119, -627.1353,\n",
              "           74.6442,  490.0585, -193.0837,  330.8072],\n",
              "        [-247.8881,  332.8712, -326.7657, -273.7481,  -35.6531, -421.1390,\n",
              "         -110.7639,  374.3600,  -20.8787,  101.6714]], grad_fn=<AddBackward0>)"
            ]
          },
          "metadata": {},
          "execution_count": 70
        }
      ]
    },
    {
      "cell_type": "markdown",
      "source": [
        "### addestramento"
      ],
      "metadata": {
        "id": "oXWWSsWSmwKC"
      }
    },
    {
      "cell_type": "code",
      "source": [
        "# immagini normalizzate\n",
        "x_train = trainset.data.float() / 255\n",
        "y_train = trainset.targets"
      ],
      "metadata": {
        "id": "tnyhY9U4ngG7"
      },
      "execution_count": 80,
      "outputs": []
    },
    {
      "cell_type": "code",
      "source": [
        "epochs = 10\n",
        "batch_size = 32\n",
        "lr = 1e-3\n",
        "\n",
        "losses = []\n",
        "counter = 0\n",
        "\n",
        "for epoch in range(epochs):\n",
        "  # scorro tutto il dataset a batch di batch_size\n",
        "  for i in range(0, len(x_train), batch_size):\n",
        "\n",
        "    counter += 1\n",
        "    # costruisco mini_batch\n",
        "    x_batch = x_train[i:i+batch_size].to(DEVICE)\n",
        "    y_batch = y_train[i:i+batch_size].to(DEVICE)\n",
        "\n",
        "\n",
        "    # mando un unput il mini_batch alla rete\n",
        "    y_batch_preds = mlp.forward(x_batch)\n",
        "\n",
        "    # calcolo il costo\n",
        "    loss = cross_entropy(y_batch_preds, y_batch)\n",
        "\n",
        "    # calcolo gradiente\n",
        "    loss.backward()\n",
        "    losses.append(loss.detach().cpu().numpy().item())\n",
        "\n",
        "\n",
        "    # Eseguo passo di discesa del gradiente\n",
        "    with torch.no_grad():                 # non costruisce il grafo computazionale\n",
        "      mlp.w1 -= lr*mlp.w1.grad\n",
        "      mlp.b1 -= lr*mlp.b1.grad\n",
        "      mlp.w2 -= lr*mlp.w2.grad\n",
        "      mlp.b2 -= lr*mlp.b2.grad\n",
        "      mlp.w3 -= lr*mlp.w3.grad\n",
        "      mlp.b3 -= lr*mlp.b3.grad\n",
        "\n",
        "      mlp.w1.grad.zero_()\n",
        "      mlp.b1.grad.zero_()\n",
        "      mlp.w2.grad.zero_()\n",
        "      mlp.b2.grad.zero_()\n",
        "      mlp.w3.grad.zero_()\n",
        "      mlp.b3.grad.zero_()\n",
        "\n",
        "    if counter % 100 == 0:\n",
        "      print(\"Loss: {}\".format(sum(losses)/len(losses)))\n",
        "      losses = []"
      ],
      "metadata": {
        "colab": {
          "base_uri": "https://localhost:8080/"
        },
        "id": "h5nsRMx6mxyl",
        "outputId": "8efef1ea-f9f2-4d90-aaa5-a0ff834041f4"
      },
      "execution_count": 81,
      "outputs": [
        {
          "output_type": "stream",
          "name": "stdout",
          "text": [
            "Loss: 0.8825681972503662\n",
            "Loss: 0.8110600984096528\n",
            "Loss: 0.8826000285148621\n",
            "Loss: 0.8505221030116081\n",
            "Loss: 0.9677538979053497\n",
            "Loss: 0.916835313141346\n",
            "Loss: 0.8518176501989365\n",
            "Loss: 0.8424647942185401\n",
            "Loss: 0.8910765007138253\n",
            "Loss: 0.9890146219730377\n",
            "Loss: 0.9089521393179893\n",
            "Loss: 0.8519733312726021\n",
            "Loss: 0.9551164799928665\n",
            "Loss: 0.8896971741318702\n",
            "Loss: 0.9097093719244004\n",
            "Loss: 0.9187974280118942\n",
            "Loss: 0.8751791903376579\n",
            "Loss: 0.7872502112388611\n",
            "Loss: 0.7309053355455398\n",
            "Loss: 0.8309778052568436\n",
            "Loss: 0.8070476388931275\n",
            "Loss: 0.8709771892428398\n",
            "Loss: 0.8504437249898911\n",
            "Loss: 0.9503287848830223\n",
            "Loss: 0.8954998624324798\n",
            "Loss: 0.8325204738974571\n",
            "Loss: 0.8479435387253761\n",
            "Loss: 0.8739215302467346\n",
            "Loss: 1.0243501168489457\n",
            "Loss: 0.8538267594575882\n",
            "Loss: 0.8335219112038612\n",
            "Loss: 0.9446670651435852\n",
            "Loss: 0.8998500239849091\n",
            "Loss: 0.84493174046278\n",
            "Loss: 0.9240805795788765\n",
            "Loss: 0.8691255602240563\n",
            "Loss: 0.7501060524582863\n",
            "Loss: 0.788717939183116\n",
            "Loss: 0.7850916028022766\n",
            "Loss: 0.808167122900486\n",
            "Loss: 0.8406565168499947\n",
            "Loss: 0.8802813148498535\n",
            "Loss: 0.929124399125576\n",
            "Loss: 0.8481712186336517\n",
            "Loss: 0.7963166573643684\n",
            "Loss: 0.8885806927084923\n",
            "Loss: 0.8941511124372482\n",
            "Loss: 0.9638117814064026\n",
            "Loss: 0.8189553400874138\n",
            "Loss: 0.8930362591147423\n",
            "Loss: 0.8934380078315735\n",
            "Loss: 0.8917290529608727\n",
            "Loss: 0.8656743678450585\n",
            "Loss: 0.8895742213726043\n",
            "Loss: 0.7920745182037353\n",
            "Loss: 0.7111725890636444\n",
            "Loss: 0.811518674492836\n",
            "Loss: 0.80003522336483\n",
            "Loss: 0.8142789515852928\n",
            "Loss: 0.8208131444454193\n",
            "Loss: 0.9150811785459518\n",
            "Loss: 0.8622044405341148\n",
            "Loss: 0.840182620882988\n",
            "Loss: 0.8093736088275909\n",
            "Loss: 0.8517853072285653\n",
            "Loss: 0.9015157681703567\n",
            "Loss: 0.9100168031454087\n",
            "Loss: 0.8290193754434586\n",
            "Loss: 0.8986853289604188\n",
            "Loss: 0.8548192125558853\n",
            "Loss: 0.880018739104271\n",
            "Loss: 0.8958782923221588\n",
            "Loss: 0.8426186794042587\n",
            "Loss: 0.7719074833393097\n",
            "Loss: 0.6674800321459771\n",
            "Loss: 0.8356674690544605\n",
            "Loss: 0.7675943318009376\n",
            "Loss: 0.8406518286466599\n",
            "Loss: 0.8052815213799477\n",
            "Loss: 0.9124575418233871\n",
            "Loss: 0.8640797764062882\n",
            "Loss: 0.8049699339270592\n",
            "Loss: 0.8000476190447807\n",
            "Loss: 0.8431635573506355\n",
            "Loss: 0.9400359898805618\n",
            "Loss: 0.8640351170301437\n",
            "Loss: 0.8071550616621971\n",
            "Loss: 0.9015447083115578\n",
            "Loss: 0.8426576584577561\n",
            "Loss: 0.862591113448143\n",
            "Loss: 0.8745988968014717\n",
            "Loss: 0.8322871807217598\n",
            "Loss: 0.7461285439133644\n",
            "Loss: 0.687964202016592\n",
            "Loss: 0.7897327795624733\n",
            "Loss: 0.7655312120914459\n",
            "Loss: 0.828321416079998\n",
            "Loss: 0.8087208238244057\n",
            "Loss: 0.8948757845163345\n",
            "Loss: 0.8458542862534523\n",
            "Loss: 0.7913630256056785\n",
            "Loss: 0.8045509439706803\n",
            "Loss: 0.8309550020098686\n",
            "Loss: 0.975525267124176\n",
            "Loss: 0.8109020987153053\n",
            "Loss: 0.7905174434185028\n",
            "Loss: 0.8957254722714424\n",
            "Loss: 0.8555013796687126\n",
            "Loss: 0.8004856848716736\n",
            "Loss: 0.8803667920827866\n",
            "Loss: 0.829350973367691\n",
            "Loss: 0.7094719529151916\n",
            "Loss: 0.748868168219924\n",
            "Loss: 0.744897703230381\n",
            "Loss: 0.7680055150389671\n",
            "Loss: 0.8001675099134445\n",
            "Loss: 0.8356421712040901\n",
            "Loss: 0.8799256056547164\n",
            "Loss: 0.8029877705872059\n",
            "Loss: 0.7583011272549629\n",
            "Loss: 0.8468528461456298\n",
            "Loss: 0.8505860576033593\n",
            "Loss: 0.9206745639443398\n",
            "Loss: 0.77748113155365\n",
            "Loss: 0.8491477841138839\n",
            "Loss: 0.8490956756472587\n",
            "Loss: 0.8494271713495255\n",
            "Loss: 0.8227324816584587\n",
            "Loss: 0.8490413534641266\n",
            "Loss: 0.7568149641156197\n",
            "Loss: 0.6727877829968929\n",
            "Loss: 0.7715371154993772\n",
            "Loss: 0.7612420037388802\n",
            "Loss: 0.7774367779493332\n",
            "Loss: 0.7814126437902451\n",
            "Loss: 0.8692257684469223\n",
            "Loss: 0.8177168518304825\n",
            "Loss: 0.7983109280467033\n",
            "Loss: 0.7724410307407379\n",
            "Loss: 0.8105277952551841\n",
            "Loss: 0.8620090678334236\n",
            "Loss: 0.8693332052230835\n",
            "Loss: 0.7888660749793053\n",
            "Loss: 0.8559838479757309\n",
            "Loss: 0.814477099776268\n",
            "Loss: 0.8354722729325295\n",
            "Loss: 0.8587135601043702\n",
            "Loss: 0.8062754620611667\n",
            "Loss: 0.7358678942918777\n",
            "Loss: 0.6335070483386517\n",
            "Loss: 0.7961934514343738\n",
            "Loss: 0.7298366576433182\n",
            "Loss: 0.8057182502746582\n",
            "Loss: 0.7691480651497841\n",
            "Loss: 0.8673031562566758\n",
            "Loss: 0.8214008179306984\n",
            "Loss: 0.7670972982048988\n",
            "Loss: 0.7649919188022614\n",
            "Loss: 0.8031601437926292\n",
            "Loss: 0.9007504522800446\n",
            "Loss: 0.8250884076952935\n",
            "Loss: 0.7706571638584137\n",
            "Loss: 0.8586091870069503\n",
            "Loss: 0.8039119750261307\n",
            "Loss: 0.8235074666142463\n",
            "Loss: 0.8386091628670692\n",
            "Loss: 0.7980166514217854\n",
            "Loss: 0.7116739189624787\n",
            "Loss: 0.6542808683216572\n",
            "Loss: 0.7556202130019665\n",
            "Loss: 0.7293416807055473\n",
            "Loss: 0.7938981112837792\n",
            "Loss: 0.7753884339332581\n",
            "Loss: 0.8515024772286415\n",
            "Loss: 0.8050810220837593\n",
            "Loss: 0.758088870048523\n",
            "Loss: 0.7691294968128204\n",
            "Loss: 0.7954370510578156\n",
            "Loss: 0.9349576577544212\n",
            "Loss: 0.7746624395251274\n",
            "Loss: 0.7554178681969642\n",
            "Loss: 0.8555595988035202\n",
            "Loss: 0.8183167088031769\n",
            "Loss: 0.7647613880038261\n",
            "Loss: 0.8463141566514969\n",
            "Loss: 0.7974953386187553\n",
            "Loss: 0.6752268573641778\n"
          ]
        }
      ]
    },
    {
      "cell_type": "code",
      "source": [
        "x_test = testset.data.float() / 255\n",
        "y_test = testset.targets\n"
      ],
      "metadata": {
        "id": "sWUDyjUDsVmN"
      },
      "execution_count": 82,
      "outputs": []
    },
    {
      "cell_type": "code",
      "source": [
        "y_test_preds = mlp.forward(x_test)"
      ],
      "metadata": {
        "id": "RS5FWG-3sglM"
      },
      "execution_count": 83,
      "outputs": []
    },
    {
      "cell_type": "code",
      "source": [
        "y_test_preds.argmax(dim=1)"
      ],
      "metadata": {
        "colab": {
          "base_uri": "https://localhost:8080/"
        },
        "id": "kgSFV8jisoTP",
        "outputId": "0839d5fe-dbb5-488f-eda4-6787dc3e27d5"
      },
      "execution_count": 84,
      "outputs": [
        {
          "output_type": "execute_result",
          "data": {
            "text/plain": [
              "tensor([7, 0, 1,  ..., 9, 8, 6])"
            ]
          },
          "metadata": {},
          "execution_count": 84
        }
      ]
    },
    {
      "cell_type": "code",
      "source": [
        "torch.mean((y_test_preds.argmax(dim=1) == y_test).float())"
      ],
      "metadata": {
        "colab": {
          "base_uri": "https://localhost:8080/"
        },
        "id": "xdKDnDOAsxc9",
        "outputId": "19f5164e-4ce8-4e9f-837c-f6be1e462259"
      },
      "execution_count": 85,
      "outputs": [
        {
          "output_type": "execute_result",
          "data": {
            "text/plain": [
              "tensor(0.7394)"
            ]
          },
          "metadata": {},
          "execution_count": 85
        }
      ]
    }
  ]
}