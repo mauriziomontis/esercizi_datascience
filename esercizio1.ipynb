{
  "nbformat": 4,
  "nbformat_minor": 0,
  "metadata": {
    "colab": {
      "provenance": [],
      "gpuType": "T4",
      "authorship_tag": "ABX9TyOsQDy9Hit4lg1xRhWfayhi",
      "include_colab_link": true
    },
    "kernelspec": {
      "name": "python3",
      "display_name": "Python 3"
    },
    "language_info": {
      "name": "python"
    },
    "accelerator": "GPU"
  },
  "cells": [
    {
      "cell_type": "markdown",
      "metadata": {
        "id": "view-in-github",
        "colab_type": "text"
      },
      "source": [
        "<a href=\"https://colab.research.google.com/github/mauriziomontis/esercizi_datascience/blob/main/esercizio1.ipynb\" target=\"_parent\"><img src=\"https://colab.research.google.com/assets/colab-badge.svg\" alt=\"Open In Colab\"/></a>"
      ]
    },
    {
      "cell_type": "markdown",
      "source": [
        "# Esercizio reti neurali"
      ],
      "metadata": {
        "id": "08MnFmFmac9m"
      }
    },
    {
      "cell_type": "code",
      "source": [
        "import torch"
      ],
      "metadata": {
        "id": "xomzQuVKaZas"
      },
      "execution_count": null,
      "outputs": []
    },
    {
      "cell_type": "markdown",
      "source": [],
      "metadata": {
        "id": "6a-MVS0SaYQx"
      }
    },
    {
      "cell_type": "code",
      "source": [
        "a = torch.tensor([1,2,3], device=\"cuda:0\")\n",
        "b = torch.tensor([4,5,6])"
      ],
      "metadata": {
        "id": "6uA12T9lbYTp"
      },
      "execution_count": null,
      "outputs": []
    },
    {
      "cell_type": "code",
      "source": [
        "a.device, b.device"
      ],
      "metadata": {
        "colab": {
          "base_uri": "https://localhost:8080/"
        },
        "id": "cJkYe3XSbjf-",
        "outputId": "2c0bdd98-8d85-468e-e7b5-5d15577ac0a4"
      },
      "execution_count": null,
      "outputs": [
        {
          "output_type": "execute_result",
          "data": {
            "text/plain": [
              "(device(type='cuda', index=0), device(type='cpu'))"
            ]
          },
          "metadata": {},
          "execution_count": 8
        }
      ]
    },
    {
      "cell_type": "markdown",
      "source": [
        "ogni tensore sta su un device --> per poter essere processati assieme devono essere sugli stessi device"
      ],
      "metadata": {
        "id": "G8wFfN_ibwju"
      }
    },
    {
      "cell_type": "code",
      "source": [
        "DEVICE = \"cuda:0\"\n",
        "\n",
        "a = torch.tensor([1,2,3], device=DEVICE)\n",
        "b = torch.tensor([4,5,6], device=DEVICE)"
      ],
      "metadata": {
        "id": "zpWppXxWb4XV"
      },
      "execution_count": null,
      "outputs": []
    },
    {
      "cell_type": "code",
      "source": [
        "a.device, b.device"
      ],
      "metadata": {
        "colab": {
          "base_uri": "https://localhost:8080/"
        },
        "id": "thfTr_lVb8pl",
        "outputId": "4044fd88-c7b3-45a0-f822-3587d4d35bbb"
      },
      "execution_count": null,
      "outputs": [
        {
          "output_type": "execute_result",
          "data": {
            "text/plain": [
              "(device(type='cuda', index=0), device(type='cuda', index=0))"
            ]
          },
          "metadata": {},
          "execution_count": 11
        }
      ]
    }
  ]
}