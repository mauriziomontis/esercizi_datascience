{
  "nbformat": 4,
  "nbformat_minor": 0,
  "metadata": {
    "colab": {
      "provenance": [],
      "authorship_tag": "ABX9TyNaghQsGnSbdbu90F38Vy/M",
      "include_colab_link": true
    },
    "kernelspec": {
      "name": "python3",
      "display_name": "Python 3"
    },
    "language_info": {
      "name": "python"
    }
  },
  "cells": [
    {
      "cell_type": "markdown",
      "metadata": {
        "id": "view-in-github",
        "colab_type": "text"
      },
      "source": [
        "<a href=\"https://colab.research.google.com/github/mauriziomontis/esercizi_datascience/blob/main/esercizio2.ipynb\" target=\"_parent\"><img src=\"https://colab.research.google.com/assets/colab-badge.svg\" alt=\"Open In Colab\"/></a>"
      ]
    },
    {
      "cell_type": "markdown",
      "source": [
        "## Reti Convolizionali"
      ],
      "metadata": {
        "id": "4tnhfSypcdvV"
      }
    },
    {
      "cell_type": "code",
      "execution_count": 1,
      "metadata": {
        "id": "DfdHVerY9i41"
      },
      "outputs": [],
      "source": [
        "import torch.nn as nn\n",
        "import torch"
      ]
    },
    {
      "cell_type": "code",
      "source": [
        "conv_layr = nn.Conv2d(\n",
        "    in_channels=3,\n",
        "    out_channels=32,\n",
        "    kernel_size=3,\n",
        "    padding=(1,1)\n",
        ")"
      ],
      "metadata": {
        "id": "Po4WvLAOcmZP"
      },
      "execution_count": 2,
      "outputs": []
    },
    {
      "cell_type": "code",
      "source": [
        "out = conv_layr(torch.randn(size=(32,3,100,100)))"
      ],
      "metadata": {
        "id": "QNMSRnzbdYzH"
      },
      "execution_count": 3,
      "outputs": []
    },
    {
      "cell_type": "code",
      "source": [
        "out.shape"
      ],
      "metadata": {
        "colab": {
          "base_uri": "https://localhost:8080/"
        },
        "id": "lbFmkXiZdkAr",
        "outputId": "6dc77fc8-b73f-473d-e59c-1bde2aacd142"
      },
      "execution_count": 4,
      "outputs": [
        {
          "output_type": "execute_result",
          "data": {
            "text/plain": [
              "torch.Size([32, 32, 100, 100])"
            ]
          },
          "metadata": {},
          "execution_count": 4
        }
      ]
    }
  ]
}